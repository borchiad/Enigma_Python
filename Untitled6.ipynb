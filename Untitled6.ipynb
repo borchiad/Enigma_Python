{
 "cells": [
  {
   "cell_type": "markdown",
   "metadata": {},
   "source": [
    "This is an implementation of an Enigma machine. "
   ]
  },
  {
   "cell_type": "code",
   "execution_count": 1,
   "metadata": {},
   "outputs": [],
   "source": [
    "import string\n",
    "from collections import deque"
   ]
  },
  {
   "cell_type": "markdown",
   "metadata": {},
   "source": [
    "A set-up cell is used to define the subroutines for the assignment of numbers to letters. I think it's better work with numbers instead that with letters, but whatever."
   ]
  },
  {
   "cell_type": "code",
   "execution_count": 2,
   "metadata": {},
   "outputs": [],
   "source": [
    "def conv(a,ind):\n",
    "    #the function takes in input the letter to be convertend and the desired shift of the alphabet.\n",
    "    for index,letter in enumerate(string.ascii_lowercase, start = ind):\n",
    "        if a == letter:\n",
    "            n=index\n",
    "    #and returns the correspondent index\n",
    "    return n"
   ]
  },
  {
   "cell_type": "code",
   "execution_count": 23,
   "metadata": {},
   "outputs": [],
   "source": [
    "def anticov(i):\n",
    "    return string.ascii_lowercase[i]"
   ]
  },
  {
   "cell_type": "code",
   "execution_count": 3,
   "metadata": {},
   "outputs": [],
   "source": [
    "def key():\n",
    "    #the function allows the user to insert the keys which controls the position of the rotors.\n",
    "    a : str = input(\"Insert the three letters key...\")\n",
    "    if len(a) != 3:\n",
    "        print(\"The inserted key is not composed by three letters\")\n",
    "        a=key()\n",
    "    else:\n",
    "        \n",
    "        return a"
   ]
  },
  {
   "cell_type": "markdown",
   "metadata": {},
   "source": [
    "Here the actual rotors of the enigma machines are defined as string. They will be later converted into numerical list."
   ]
  },
  {
   "cell_type": "code",
   "execution_count": 4,
   "metadata": {},
   "outputs": [],
   "source": [
    "#Commercial ENIGMA\n",
    "com1=\"dmtwsilruyqnkfejcazbpgxohv\" #IC\n",
    "com2=\"hqzgpjtmoblncifdyawveusrkx\" #IIC\n",
    "com3=\"uqntlszfmrehdpxkibvyjgcwoa\" #IIIC\n",
    "#German Railway (Rocket)\n",
    "rai1=\"jgdqoxuscamifrvtpnewkblzyh\" #I\n",
    "rai2=\"ntzpsfbokmwrcjdivlaeyuxhgq\" #II\n",
    "rai3=\"jviubhtcdyakeqzposgxnrmwfl\" #III\n",
    "rai4=\"qyhognecvpuztfdjaxwmkisrbl\" #UKW\n",
    "rai5=\"qwertzuioasdfghjkpyxcvbnml\" #ETW\n",
    "#Swiss K\n",
    "swi1=\"pezuohxscvfmtbglrinqjwaydk\" #I-K\n",
    "swi2=\"zouesydkfwpciqxhmvblgnjrat\" #II-K\n",
    "swi3=\"ehrvxgaobqusimzflynwktpdjc\" #III-K\n",
    "swi4=\"imetcgfraysqbzxwlhkdvupojn\" #UKW-K\n",
    "swi5=\"qwertzuioasdfghjkpyxcvbnml\" #ETW-K\n",
    "#misc 1\n",
    "eni1=\"ekmflgdqvzntowyhxuspaibrcj\" #I Enigma-1\n",
    "eni2=\"ajdksiruxblhwtmcqgznpyfvoe\" #II Enigma-1\n",
    "eni3=\"bdfhjlcprtxvznyeiwgakmusqo\" #III Enigma-1\n",
    "eni4=\"esovpzjayquirhxlnftgkdcmwb\" #M3 Army\n",
    "eni5=\"vzbrgityupsdnhlxawmjqofeck\" #M3 Army\n",
    "eni6=\"jpgvoumfyqbenhzrdkasxlictw\" #M3 and M4 Naval\n",
    "eni7=\"nzjhgrcxmyswboufaivlpekqdt\" #M3 and M4 Naval\n",
    "eni8=\"gkqhtlxocbjspdzramewniuygv\" #M3 and M4 Naval\n",
    "#misc 2\n",
    "beta=\"leyjvcnixwpbqmdrtakzgfuhos\" #M4 R2\n",
    "gamma=\"fsokanuerhmbtiycwlqpzxvgjd\" #M4 R2\n",
    "ref1=\"ejmzalyxvbwfcrquontspikhgd\" #Reflector a\n",
    "ref2=\"yruhqsldpxngokmiebfzcwvjat\" #Reflector b\n",
    "ref3=\"fvpjiaoyedrzxwgtckuqsbnmhl\" #Reflector c\n",
    "ref4=\"enkqauywjicopblmdxzvfthrgs\" #Reflector b thin (M4 R1 (M3 thin))\n",
    "ref5=\"rdobjntkvehmlfcwzaxgyipsuq\" #Reflector c thin (M4 R1 (M3 thin))\n",
    "etw=\"abcdefghijklmnopqrstuvwxyz\"  #Enigma 1"
   ]
  },
  {
   "cell_type": "code",
   "execution_count": 5,
   "metadata": {},
   "outputs": [],
   "source": [
    "#This function should convert a rotor string in a numerical list \n",
    "def lc(list1):\n",
    "    a=[]\n",
    "    for i in range(0,len(list1)):\n",
    "        a.append(conv(list1[i],0))\n",
    "    return a"
   ]
  },
  {
   "cell_type": "code",
   "execution_count": 38,
   "metadata": {},
   "outputs": [],
   "source": [
    "#the connection are stored in a matrix. The matrix is created by calling this function.\n",
    "#the inpt matrix is list([a,r1,a,r2,a,r3,stat])\n",
    "def update(uni,rot1,rot2,rot3,stat, k1,k2,k3, count):\n",
    "    mtxin=[lc(uni),lc(rot1),lc(uni),lc(rot2),lc(uni),lc(rot3),lc(stat)]\n",
    "    key=[k1,k2,k3]\n",
    "    #This for loop set the enigma machine in its initial configuration\n",
    "    for i in range(0,2):\n",
    "        mtxin[2*i]=[(x+key[i])%26 for x in mtxin[2*i]]\n",
    "        mtxin[2*(i+1)]=[(x+key[i])%26 for x in mtxin[2*(i+1)]]\n",
    "    #for each encoding step the rotors change configurations, while the stator remains still. this for \n",
    "    #loop implements the configuration dynanics\n",
    "    for i in range(0,2):\n",
    "        mtxin[2*i]=[(x+(count%(26**(i+1))))%26 for x in mtxin[2*i]]\n",
    "        mtxin[2*(i+1)]=[(x+(count%(26**(i+1))))%26 for x in mtxin[2*(i+1)]]\n",
    "    mtxout=list([mtxin[0],mtxin[1],mtxin[2],mtxin[3],mtxin[4],mtxin[5],mtxin[6]])\n",
    "    #and returns the rotors matrix\n",
    "    return mtxout\n",
    "    "
   ]
  },
  {
   "cell_type": "code",
   "execution_count": 39,
   "metadata": {},
   "outputs": [],
   "source": [
    "#The plugs are possible exchanges between two letters. A table of the plugs will be implemented\n",
    "#but not now\n",
    "def plugs(a):\n",
    "    return a"
   ]
  },
  {
   "cell_type": "code",
   "execution_count": 40,
   "metadata": {},
   "outputs": [],
   "source": [
    "def search(lis, elem):\n",
    "    for i in range(0,len(lis)):\n",
    "        if lis[i] == elem:\n",
    "            t=i\n",
    "            return int(t)"
   ]
  },
  {
   "cell_type": "code",
   "execution_count": 41,
   "metadata": {},
   "outputs": [],
   "source": [
    "def lettercode(uni,rot1,rot2,rot3,stat,lett,count,k1,k2,k3):\n",
    "    mtxin=[lc(uni),lc(rot1),lc(uni),lc(rot2),lc(uni),lc(rot3),lc(stat)]\n",
    "    key=[k1,k2,k3]\n",
    "    a1=conv(lett,0)\n",
    "    #a1=plugs(a)\n",
    "   # print(a1)\n",
    "    mtxout=update(uni,rot1,rot2,rot3,stat,k1,k2,k3,count)\n",
    "    a2=mtxout[1][a1]\n",
    "  #  print(a2)\n",
    "    a3=search(mtxout[0],a2)\n",
    "    #print(a3)\n",
    "    a4=mtxout[3][a3]\n",
    "   # print(a4)\n",
    "   # type(a4)\n",
    "    a5=search(mtxout[2],a4)\n",
    "    #print(a5)\n",
    "    a6=mtxout[5][a5]\n",
    "    a7=search(mtxout[4],a6)\n",
    "    a8=mtxout[6][a7]\n",
    "    a9=mtxout[4][a8]\n",
    "    a10=search(mtxout[5],a9)\n",
    "    a11=mtxout[2][a10]\n",
    "    a12=search(mtxout[3],a11)\n",
    "    a13=mtxout[0][a12]\n",
    "    a14=search(mtxout[1],a13)\n",
    "    #a15=plugs(a14)\n",
    "    return a14"
   ]
  },
  {
   "cell_type": "code",
   "execution_count": 42,
   "metadata": {},
   "outputs": [],
   "source": [
    "def coding(uni,rot1,rot2,rot3,stat,stri,k1,k2,k3):\n",
    "    mtxin=[lc(uni),lc(rot1),lc(uni),lc(rot2),lc(uni),lc(rot3),lc(stat)]\n",
    "    #i is the letter counter\n",
    "    for i in range(0,len(stri)):\n",
    "        ada=lettercode(uni,rot1,rot2,rot3,stat,stri[i],i,k1,k2,k3)\n",
    "        print(ada,\" is  \",anticov(ada))\n",
    "    #return enword"
   ]
  },
  {
   "cell_type": "code",
   "execution_count": 49,
   "metadata": {},
   "outputs": [
    {
     "name": "stdout",
     "output_type": "stream",
     "text": [
      "Insert the three letters key...ogn\n"
     ]
    }
   ],
   "source": [
    "k=key()\n",
    "k=lc(k)"
   ]
  },
  {
   "cell_type": "code",
   "execution_count": 54,
   "metadata": {
    "scrolled": false
   },
   "outputs": [
    {
     "name": "stdout",
     "output_type": "stream",
     "text": [
      "25  is   z\n",
      "5  is   f\n",
      "6  is   g\n",
      "4  is   e\n",
      "5  is   f\n",
      "21  is   v\n",
      "6  is   g\n"
     ]
    }
   ],
   "source": [
    "coding(etw,com1,com2,com3,ref1,\"itworks\",k[0],k[1],k[2])"
   ]
  },
  {
   "cell_type": "code",
   "execution_count": 55,
   "metadata": {},
   "outputs": [
    {
     "name": "stdout",
     "output_type": "stream",
     "text": [
      "8  is   i\n",
      "19  is   t\n",
      "22  is   w\n",
      "14  is   o\n",
      "17  is   r\n",
      "10  is   k\n",
      "18  is   s\n"
     ]
    }
   ],
   "source": [
    "coding(etw,com1,com2,com3,ref1,\"zfgefvg\",k[0],k[1],k[2])"
   ]
  },
  {
   "cell_type": "code",
   "execution_count": null,
   "metadata": {},
   "outputs": [],
   "source": []
  }
 ],
 "metadata": {
  "kernelspec": {
   "display_name": "Python 3",
   "language": "python",
   "name": "python3"
  },
  "language_info": {
   "codemirror_mode": {
    "name": "ipython",
    "version": 3
   },
   "file_extension": ".py",
   "mimetype": "text/x-python",
   "name": "python",
   "nbconvert_exporter": "python",
   "pygments_lexer": "ipython3",
   "version": "3.6.3"
  }
 },
 "nbformat": 4,
 "nbformat_minor": 2
}
