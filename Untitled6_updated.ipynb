{
 "cells": [
  {
   "cell_type": "markdown",
   "metadata": {},
   "source": [
    "This is an implementation of an Enigma machine. "
   ]
  },
  {
   "cell_type": "code",
   "execution_count": 3,
   "metadata": {},
   "outputs": [],
   "source": [
    "import string\n",
    "from collections import deque\n",
    "import re\n",
    "pat=\"[0-9]\" #This pattern is used in a regex to distinguish between a str(int) and a str(char)\n",
    "from texttable import Texttable"
   ]
  },
  {
   "cell_type": "markdown",
   "metadata": {},
   "source": [
    "A set-up cell is used to define the subroutines for the assignment of numbers to letters. I think it's better work with numbers instead that with letters, but whatever."
   ]
  },
  {
   "cell_type": "code",
   "execution_count": 4,
   "metadata": {},
   "outputs": [],
   "source": [
    "def conv(a,ind):\n",
    "    #the function takes in input the letter to be convertend and the desired shift of the alphabet.\n",
    "    for index,letter in enumerate(string.ascii_lowercase, start = ind):\n",
    "        if a == letter:\n",
    "            n=index\n",
    "    #and returns the correspondent index\n",
    "    return n"
   ]
  },
  {
   "cell_type": "code",
   "execution_count": 5,
   "metadata": {},
   "outputs": [],
   "source": [
    "def anticov(i):\n",
    "    return string.ascii_lowercase[i]"
   ]
  },
  {
   "cell_type": "code",
   "execution_count": 6,
   "metadata": {},
   "outputs": [],
   "source": [
    "def key():\n",
    "    #the function allows the user to insert the keys which controls the position of the rotors.\n",
    "    a : str = input(\"Insert the three letters key...\")\n",
    "    if len(a) != 3:\n",
    "        print(\"The inserted key is not composed by three letters\")\n",
    "        a=key()\n",
    "    #else:\n",
    "        #return a\n",
    "    return a"
   ]
  },
  {
   "cell_type": "markdown",
   "metadata": {},
   "source": [
    "Here the actual rotors of the enigma machines are defined as string. They will be later converted into numerical list."
   ]
  },
  {
   "cell_type": "code",
   "execution_count": 27,
   "metadata": {},
   "outputs": [],
   "source": [
    "#Commercial ENIGMA\n",
    "com1=\"dmtwsilruyqnkfejcazbpgxohv\" #IC\n",
    "com2=\"hqzgpjtmoblncifdyawveusrkx\" #IIC\n",
    "com3=\"uqntlszfmrehdpxkibvyjgcwoa\" #IIIC\n",
    "#German Railway (Rocket)\n",
    "rai1=\"jgdqoxuscamifrvtpnewkblzyh\" #I\n",
    "rai2=\"ntzpsfbokmwrcjdivlaeyuxhgq\" #II\n",
    "rai3=\"jviubhtcdyakeqzposgxnrmwfl\" #III\n",
    "rai4=\"qyhognecvpuztfdjaxwmkisrbl\" #UKW\n",
    "rai5=\"qwertzuioasdfghjkpyxcvbnml\" #ETW\n",
    "#Swiss K\n",
    "swi1=\"pezuohxscvfmtbglrinqjwaydk\" #I-K\n",
    "swi2=\"zouesydkfwpciqxhmvblgnjrat\" #II-K\n",
    "swi3=\"ehrvxgaobqusimzflynwktpdjc\" #III-K\n",
    "swi4=\"imetcgfraysqbzxwlhkdvupojn\" #UKW-K\n",
    "swi5=\"qwertzuioasdfghjkpyxcvbnml\" #ETW-K\n",
    "#misc 1\n",
    "eni1=\"ekmflgdqvzntowyhxuspaibrcj\" #I Enigma-1\n",
    "eni2=\"ajdksiruxblhwtmcqgznpyfvoe\" #II Enigma-1\n",
    "eni3=\"bdfhjlcprtxvznyeiwgakmusqo\" #III Enigma-1\n",
    "eni4=\"esovpzjayquirhxlnftgkdcmwb\" #M3 Army\n",
    "eni5=\"vzbrgityupsdnhlxawmjqofeck\" #M3 Army\n",
    "eni6=\"jpgvoumfyqbenhzrdkasxlictw\" #M3 and M4 Naval\n",
    "eni7=\"nzjhgrcxmyswboufaivlpekqdt\" #M3 and M4 Naval\n",
    "eni8=\"gkqhtlxocbjspdzramewniuygv\" #M3 and M4 Naval\n",
    "#misc 2\n",
    "beta=\"leyjvcnixwpbqmdrtakzgfuhos\" #M4 R2\n",
    "gamma=\"fsokanuerhmbtiycwlqpzxvgjd\" #M4 R2\n",
    "ref1=\"ejmzalyxvbwfcrquontspikhgd\" #Reflector a\n",
    "ref2=\"yruhqsldpxngokmiebfzcwvjat\" #Reflector b\n",
    "ref3=\"fvpjiaoyedrzxwgtckuqsbnmhl\" #Reflector c\n",
    "ref4=\"enkqauywjicopblmdxzvfthrgs\" #Reflector b thin (M4 R1 (M3 thin))\n",
    "ref5=\"rdobjntkvehmlfcwzaxgyipsuq\" #Reflector c thin (M4 R1 (M3 thin))\n",
    "etw=\"abcdefghijklmnopqrstuvwxyz\"  #Enigma 1\n",
    "dic={\"com1\":com1,\"com2\":com2,\"com3\":com3,\n",
    "    \"rai1\":rai1,\"rai2\":rai2,\"rai3\":rai3,\"rai4\":rai4,\"rai5\":rai5,\n",
    "    \"swi1\":swi1,\"swi2\":swi2,\"swi3\":swi3,\"swi4\":swi4,\"swi5\":swi5,\n",
    "     \"eni1\":eni1,\"eni2\":eni2,\"eni3\":eni3,\"eni4\":eni4,\"eni5\":eni5,\"eni6\":eni6,\"eni7\":eni7,\"eni8\":eni8,\n",
    "    \"beta\":beta,\"gamma\":gamma,\n",
    "    \"ref1\":ref1,\"ref2\":ref2,\"ref3\":ref3,\"ref4\":ref4,\"ref5\":ref5,\"etw\":etw}"
   ]
  },
  {
   "cell_type": "code",
   "execution_count": 8,
   "metadata": {},
   "outputs": [],
   "source": [
    "#This function should convert a rotor string in a numerical list \n",
    "def lc(list1):\n",
    "    a=[]\n",
    "    for i in range(0,len(list1)):\n",
    "        a.append(conv(list1[i],0))\n",
    "    return a"
   ]
  },
  {
   "cell_type": "code",
   "execution_count": 9,
   "metadata": {},
   "outputs": [],
   "source": [
    "#the connection are stored in a matrix. The matrix is created by calling this function.\n",
    "#the inpt matrix is list([a,r1,a,r2,a,r3,stat])\n",
    "def update(uni,rot1,rot2,rot3,stat, k1,k2,k3, count):\n",
    "    mtxin=[lc(uni),lc(rot1),lc(uni),lc(rot2),lc(uni),lc(rot3),lc(stat)]\n",
    "    key=[k1,k2,k3]\n",
    "    #This for loop set the enigma machine in its initial configuration\n",
    "    for i in range(0,2):\n",
    "        mtxin[2*i]=[(x+key[i])%26 for x in mtxin[2*i]]\n",
    "        mtxin[2*(i+1)]=[(x+key[i])%26 for x in mtxin[2*(i+1)]]\n",
    "    #for each encoding step the rotors change configurations, while the stator remains still. this for \n",
    "    #loop implements the configuration dynanics\n",
    "    for i in range(0,2):\n",
    "        mtxin[2*i]=[(x+(count%(26**(i+1))))%26 for x in mtxin[2*i]]\n",
    "        mtxin[2*(i+1)]=[(x+(count%(26**(i+1))))%26 for x in mtxin[2*(i+1)]]\n",
    "    mtxout=list([mtxin[0],mtxin[1],mtxin[2],mtxin[3],mtxin[4],mtxin[5],mtxin[6]])\n",
    "    #and returns the rotors matrix\n",
    "    return mtxout\n",
    "    "
   ]
  },
  {
   "cell_type": "code",
   "execution_count": 10,
   "metadata": {},
   "outputs": [],
   "source": [
    "#The plugs are possible exchanges between two letters. A table of the plugs will be implemented\n",
    "#but not now\n",
    "def plugs(a):\n",
    "    return a"
   ]
  },
  {
   "cell_type": "code",
   "execution_count": 11,
   "metadata": {},
   "outputs": [],
   "source": [
    "def search(lis, elem):\n",
    "    for i in range(0,len(lis)):\n",
    "        if lis[i] == elem:\n",
    "            t=i\n",
    "            return int(t)"
   ]
  },
  {
   "cell_type": "code",
   "execution_count": 12,
   "metadata": {},
   "outputs": [],
   "source": [
    "def lettercode(uni,rot1,rot2,rot3,stat,lett,count,k1,k2,k3):\n",
    "    mtxin=[lc(uni),lc(rot1),lc(uni),lc(rot2),lc(uni),lc(rot3),lc(stat)]\n",
    "    key=[k1,k2,k3]\n",
    "    a1=conv(lett,0)\n",
    "    #a1=plugs(a)\n",
    "   # print(a1)\n",
    "    mtxout=update(uni,rot1,rot2,rot3,stat,k1,k2,k3,count)\n",
    "    a2=mtxout[1][a1]\n",
    "  #  print(a2)\n",
    "    a3=search(mtxout[0],a2)\n",
    "    #print(a3)\n",
    "    a4=mtxout[3][a3]\n",
    "   # print(a4)\n",
    "   # type(a4)\n",
    "    a5=search(mtxout[2],a4)\n",
    "    #print(a5)\n",
    "    a6=mtxout[5][a5]\n",
    "    a7=search(mtxout[4],a6)\n",
    "    a8=mtxout[6][a7]\n",
    "    a9=mtxout[4][a8]\n",
    "    a10=search(mtxout[5],a9)\n",
    "    a11=mtxout[2][a10]\n",
    "    a12=search(mtxout[3],a11)\n",
    "    a13=mtxout[0][a12]\n",
    "    a14=search(mtxout[1],a13)\n",
    "    #a15=plugs(a14)\n",
    "    return a14"
   ]
  },
  {
   "cell_type": "code",
   "execution_count": 41,
   "metadata": {},
   "outputs": [],
   "source": [
    "def coding(uni,rot1,rot2,rot3,stat,stri,k1,k2,k3):\n",
    "    mtxin=[lc(uni),lc(rot1),lc(uni),lc(rot2),lc(uni),lc(rot3),lc(stat)]\n",
    "    #i is the letter counter\n",
    "    for i in range(0,len(stri)):\n",
    "        ada=lettercode(uni,rot1,rot2,rot3,stat,stri[i],i,k1,k2,k3)\n",
    "        return anticov(ada)\n",
    "    #return enword"
   ]
  },
  {
   "cell_type": "code",
   "execution_count": 14,
   "metadata": {},
   "outputs": [
    {
     "name": "stdout",
     "output_type": "stream",
     "text": [
      "Insert the three letters key...oyw\n"
     ]
    }
   ],
   "source": [
    "k=key()\n",
    "k=lc(k)"
   ]
  },
  {
   "cell_type": "code",
   "execution_count": 15,
   "metadata": {
    "scrolled": false
   },
   "outputs": [
    {
     "name": "stdout",
     "output_type": "stream",
     "text": [
      "5  is   f\n",
      "5  is   f\n",
      "21  is   v\n",
      "19  is   t\n",
      "15  is   p\n",
      "20  is   u\n",
      "4  is   e\n"
     ]
    }
   ],
   "source": [
    "coding(etw,com1,com2,com3,ref1,\"itworks\",k[0],k[1],k[2])"
   ]
  },
  {
   "cell_type": "code",
   "execution_count": 16,
   "metadata": {},
   "outputs": [
    {
     "name": "stdout",
     "output_type": "stream",
     "text": [
      "8  is   i\n",
      "19  is   t\n",
      "22  is   w\n",
      "14  is   o\n",
      "17  is   r\n",
      "10  is   k\n",
      "18  is   s\n"
     ]
    }
   ],
   "source": [
    "coding(etw,com1,com2,com3,ref1,\"ffvtpue\",k[0],k[1],k[2])"
   ]
  },
  {
   "cell_type": "code",
   "execution_count": 21,
   "metadata": {},
   "outputs": [],
   "source": [
    "def setup():\n",
    "    print(\"The disponible rotors are:\"\"\\n\"\n",
    "          \"\\t\"\"the ones of the commercial Enigma machine (I, II and III): com1, com2, com3;\"\"\\n\"\n",
    "          \"\\t\"\"the ones of the German Railways (I, II, III, UKW, ETW): rai1 to rai5\"\"\\n\"\n",
    "         \"\\t\"\"the ones of the Swiss K Enigma (I-S, II-S, III-S, UKW-S, ETW-S): swi1 to swi5\"\"\\n\"\n",
    "         \"\\t\"\"the three rotors of the Enigma 1 (I, II, III): eni1, eni2, eni3\"\"\\n\"\n",
    "         \"\\t\"\"the M3 - M4 rotors of the Army and Navy: eni4 to eni7\"\"\\n\"\n",
    "         \"\\t\"\"the beta and gamma rotors of M3 and M4 machines: beta and gamma\"\"\\n\"\n",
    "         \"the disponible reflectors are reflector a, b, c and the 'thin' version of the b and c: ref1 to ref5\"\"\\n\"\n",
    "         \"The enigma 1 neutral rotors is labelled etw\")\n",
    "    t = Texttable()\n",
    "    t.add_rows([['Rotor', 'Code'], ['Commercial Enigma', \"com1, com2, com3\"],\n",
    "                ['German Railways', \"rai1, rai2, rai3, rai4, rai5\"],\n",
    "               [\"Swiss K Enigma\",\"swi1, swi2, swi3, swi4, swi5\"],\n",
    "               [\"Enigma 1\",\"eni1, eni2,eni3\"],\n",
    "               [\"M3, M4 (Army and Navy)\",\"eni4, eni5, eni6, eni7\"],\n",
    "               [\"M3, M4 beta and gamma\",\"beta, gamma\"],\n",
    "               [\"Neutral rotor\",\"etw\"]])\n",
    "    print(t.draw())\n",
    "    t1=Texttable()\n",
    "    t1.add_rows(\n",
    "        [[\"Reflector\",\"Code\"],\n",
    "         [\"Normal version (a, b, c)\",\"ref1,ref2,ref3\"],\n",
    "         [\"Thin version (b, c)\",\"ref4, ref5\"]\n",
    "        ]\n",
    "    )\n",
    "    print(t1.draw())\n",
    "    print(\"\\n\")\n",
    "    c=[]\n",
    "    for i in range (0,3):\n",
    "        c.append(input(\"Insert the desired rotor...\"))\n",
    "    return c"
   ]
  },
  {
   "cell_type": "code",
   "execution_count": 38,
   "metadata": {},
   "outputs": [],
   "source": [
    "def encoding(phrase,uni,rot1,rot2,rot3,stat,k1,k2,k3):\n",
    "    word=[]\n",
    "    for i in phrase.split():\n",
    "        for j in i:\n",
    "            word.append(coding(uni,rot1,rot2,rot3,stat,j,k1,k2,k3))\n",
    "        word.append(\" \")\n",
    "    return word\n"
   ]
  },
  {
   "cell_type": "code",
   "execution_count": 19,
   "metadata": {
    "collapsed": true
   },
   "outputs": [],
   "source": [
    "def set_plug():\n",
    "    s=[]\n",
    "    a=int(input(\"How many letters are to be swapped in input to the machine?\"))\n",
    "    for i in range(0,a):\n",
    "        a1=input(\"Insert the first letter to be swapped... \")\n",
    "        while re.match(pat,a1):\n",
    "            a1=input(\"That's no letter. Please insert a letter...\")\n",
    "        if i >= 1:\n",
    "            for j in range(0,len(s)):\n",
    "                if a1 == s[j][0]:\n",
    "                    a1=input(\"The letter is already used in a swap,please insert another letter...\")\n",
    "                    while re.match(pat,a1):\n",
    "                        a1=input(\"That's no letter. Please insert a letter...\")\n",
    "        a2=input(\"Insert the letter with which the first letter is swapped...\")\n",
    "        while re.match(pat,a2):\n",
    "            a2=input(\"That's no letter. Please insert a letter...\")\n",
    "        if i >= 1:\n",
    "            for j in range(0,len(s)):\n",
    "                if a2 == s[j][1]:\n",
    "                    a2=input(\"The letter is already used in a swap, please insert another letter...\")\n",
    "                    while re.match(pat,a2):\n",
    "                        a2=input(\"That's no letter. Please insert a letter...\")\n",
    "        s.append([a1,a2])\n",
    "    return s\n",
    "        \n",
    "        \n",
    "        "
   ]
  },
  {
   "cell_type": "code",
   "execution_count": 22,
   "metadata": {},
   "outputs": [
    {
     "name": "stdout",
     "output_type": "stream",
     "text": [
      "The disponible rotors are:\n",
      "\tthe ones of the commercial Enigma machine (I, II and III): com1, com2, com3;\n",
      "\tthe ones of the German Railways (I, II, III, UKW, ETW): rai1 to rai5\n",
      "\tthe ones of the Swiss K Enigma (I-S, II-S, III-S, UKW-S, ETW-S): swi1 to swi5\n",
      "\tthe three rotors of the Enigma 1 (I, II, III): eni1, eni2, eni3\n",
      "\tthe M3 - M4 rotors of the Army and Navy: eni4 to eni7\n",
      "\tthe beta and gamma rotors of M3 and M4 machines: beta and gamma\n",
      "the disponible reflectors are reflector a, b, c and the 'thin' version of the b and c: ref1 to ref5\n",
      "The enigma 1 neutral rotors is labelled etw\n",
      "+------------------------+------------------------------+\n",
      "|         Rotor          |             Code             |\n",
      "+========================+==============================+\n",
      "| Commercial Enigma      | com1, com2, com3             |\n",
      "+------------------------+------------------------------+\n",
      "| German Railways        | rai1, rai2, rai3, rai4, rai5 |\n",
      "+------------------------+------------------------------+\n",
      "| Swiss K Enigma         | swi1, swi2, swi3, swi4, swi5 |\n",
      "+------------------------+------------------------------+\n",
      "| Enigma 1               | eni1, eni2,eni3              |\n",
      "+------------------------+------------------------------+\n",
      "| M3, M4 (Army and Navy) | eni4, eni5, eni6, eni7       |\n",
      "+------------------------+------------------------------+\n",
      "| M3, M4 beta and gamma  | beta, gamma                  |\n",
      "+------------------------+------------------------------+\n",
      "| Neutral rotor          | etw                          |\n",
      "+------------------------+------------------------------+\n",
      "+--------------------------+----------------+\n",
      "|        Reflector         |      Code      |\n",
      "+==========================+================+\n",
      "| Normal version (a, b, c) | ref1,ref2,ref3 |\n",
      "+--------------------------+----------------+\n",
      "| Thin version (b, c)      | ref4, ref5     |\n",
      "+--------------------------+----------------+\n",
      "\n",
      "\n",
      "Insert the desired rotor...com1\n",
      "Insert the desired rotor...com2\n",
      "Insert the desired rotor...com3\n"
     ]
    }
   ],
   "source": [
    "tibi=setup()"
   ]
  },
  {
   "cell_type": "code",
   "execution_count": 29,
   "metadata": {},
   "outputs": [],
   "source": [
    "#This block contains the entire procedure for the coding of a phrase"
   ]
  },
  {
   "cell_type": "code",
   "execution_count": 30,
   "metadata": {},
   "outputs": [],
   "source": [
    "phrase=\"the fuck is all this\""
   ]
  },
  {
   "cell_type": "code",
   "execution_count": 31,
   "metadata": {},
   "outputs": [
    {
     "data": {
      "text/plain": [
       "['the', 'fuck', 'is', 'all', 'this']"
      ]
     },
     "execution_count": 31,
     "metadata": {},
     "output_type": "execute_result"
    }
   ],
   "source": [
    "phrase.split()"
   ]
  },
  {
   "cell_type": "code",
   "execution_count": 35,
   "metadata": {},
   "outputs": [
    {
     "name": "stdout",
     "output_type": "stream",
     "text": [
      "t\n",
      "h\n",
      "e\n",
      "f\n",
      "u\n",
      "c\n",
      "k\n",
      "i\n",
      "s\n",
      "a\n",
      "l\n",
      "l\n",
      "t\n",
      "h\n",
      "i\n",
      "s\n"
     ]
    }
   ],
   "source": [
    "for i in phrase.split():\n",
    "    for j in i:\n",
    "        print(j)"
   ]
  },
  {
   "cell_type": "code",
   "execution_count": 47,
   "metadata": {},
   "outputs": [],
   "source": [
    "enco=''.join(encoding(phrase,etw,com1,com2,com3,ref1,k[0],k[1],k[2]))"
   ]
  },
  {
   "cell_type": "code",
   "execution_count": 48,
   "metadata": {},
   "outputs": [],
   "source": [
    "deco=''.join(encoding(enco,etw,com1,com2,com3,ref1,k[0],k[1],k[2]))"
   ]
  },
  {
   "cell_type": "code",
   "execution_count": 49,
   "metadata": {},
   "outputs": [
    {
     "data": {
      "text/plain": [
       "'the fuck is all this '"
      ]
     },
     "execution_count": 49,
     "metadata": {},
     "output_type": "execute_result"
    }
   ],
   "source": [
    "deco"
   ]
  },
  {
   "cell_type": "code",
   "execution_count": null,
   "metadata": {},
   "outputs": [],
   "source": []
  }
 ],
 "metadata": {
  "kernelspec": {
   "display_name": "Python 3",
   "language": "python",
   "name": "python3"
  },
  "language_info": {
   "codemirror_mode": {
    "name": "ipython",
    "version": 3
   },
   "file_extension": ".py",
   "mimetype": "text/x-python",
   "name": "python",
   "nbconvert_exporter": "python",
   "pygments_lexer": "ipython3",
   "version": "3.6.3"
  }
 },
 "nbformat": 4,
 "nbformat_minor": 2
}
